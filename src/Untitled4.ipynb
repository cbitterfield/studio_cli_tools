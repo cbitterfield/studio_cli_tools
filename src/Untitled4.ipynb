{
 "cells": [
  {
   "cell_type": "code",
   "execution_count": 1,
   "metadata": {},
   "outputs": [],
   "source": [
    "files=\"\"\"Untitled1-10.mov\n",
    "Untitled1-11.mov\n",
    "Untitled1-12.mov\n",
    "Untitled1-13.mov\n",
    "Untitled1-14.mov\n",
    "Untitled1-15.mov\n",
    "Untitled1-16.mov\n",
    "Untitled1-17.mov\n",
    "Untitled1-1.mov\n",
    "Untitled1-2.mov\n",
    "Untitled1-3.mov\n",
    "Untitled1-4.mov\n",
    "Untitled1-5.mov\n",
    "Untitled1-6.mov\n",
    "Untitled1-7.mov\n",
    "Untitled1-8.mov\n",
    "Untitled1-9.mov\n",
    "Untitled1.mov\n",
    "Untitled2-1.mov\n",
    "Untitled2-2.mov\n",
    "Untitled2-3.mov\n",
    "Untitled2.mov\n",
    "Untitled3-1.mov\n",
    "Untitled3-2.mov\n",
    "Untitled3-3.mov\n",
    "Untitled3-4.mov\n",
    "Untitled3-5.mov\n",
    "Untitled3.mov\n",
    "Untitled.mov\"\"\""
   ]
  },
  {
   "cell_type": "code",
   "execution_count": 4,
   "metadata": {},
   "outputs": [],
   "source": [
    "list=files.split('\\n')"
   ]
  },
  {
   "cell_type": "code",
   "execution_count": 5,
   "metadata": {},
   "outputs": [
    {
     "data": {
      "text/plain": [
       "['Untitled1-10.mov',\n",
       " 'Untitled1-11.mov',\n",
       " 'Untitled1-12.mov',\n",
       " 'Untitled1-13.mov',\n",
       " 'Untitled1-14.mov',\n",
       " 'Untitled1-15.mov',\n",
       " 'Untitled1-16.mov',\n",
       " 'Untitled1-17.mov',\n",
       " 'Untitled1-1.mov',\n",
       " 'Untitled1-2.mov',\n",
       " 'Untitled1-3.mov',\n",
       " 'Untitled1-4.mov',\n",
       " 'Untitled1-5.mov',\n",
       " 'Untitled1-6.mov',\n",
       " 'Untitled1-7.mov',\n",
       " 'Untitled1-8.mov',\n",
       " 'Untitled1-9.mov',\n",
       " 'Untitled1.mov',\n",
       " 'Untitled2-1.mov',\n",
       " 'Untitled2-2.mov',\n",
       " 'Untitled2-3.mov',\n",
       " 'Untitled2.mov',\n",
       " 'Untitled3-1.mov',\n",
       " 'Untitled3-2.mov',\n",
       " 'Untitled3-3.mov',\n",
       " 'Untitled3-4.mov',\n",
       " 'Untitled3-5.mov',\n",
       " 'Untitled3.mov',\n",
       " 'Untitled.mov']"
      ]
     },
     "execution_count": 5,
     "metadata": {},
     "output_type": "execute_result"
    }
   ],
   "source": [
    "list"
   ]
  },
  {
   "cell_type": "code",
   "execution_count": 9,
   "metadata": {},
   "outputs": [],
   "source": [
    "list.sort()"
   ]
  },
  {
   "cell_type": "code",
   "execution_count": 10,
   "metadata": {},
   "outputs": [],
   "source": [
    "import numpy"
   ]
  },
  {
   "cell_type": "code",
   "execution_count": 11,
   "metadata": {},
   "outputs": [
    {
     "data": {
      "text/plain": [
       "array(['Untitled.mov', 'Untitled1-1.mov', 'Untitled1-10.mov',\n",
       "       'Untitled1-11.mov', 'Untitled1-12.mov', 'Untitled1-13.mov',\n",
       "       'Untitled1-14.mov', 'Untitled1-15.mov', 'Untitled1-16.mov',\n",
       "       'Untitled1-17.mov', 'Untitled1-2.mov', 'Untitled1-3.mov',\n",
       "       'Untitled1-4.mov', 'Untitled1-5.mov', 'Untitled1-6.mov',\n",
       "       'Untitled1-7.mov', 'Untitled1-8.mov', 'Untitled1-9.mov',\n",
       "       'Untitled1.mov', 'Untitled2-1.mov', 'Untitled2-2.mov',\n",
       "       'Untitled2-3.mov', 'Untitled2.mov', 'Untitled3-1.mov',\n",
       "       'Untitled3-2.mov', 'Untitled3-3.mov', 'Untitled3-4.mov',\n",
       "       'Untitled3-5.mov', 'Untitled3.mov'], dtype='<U16')"
      ]
     },
     "execution_count": 11,
     "metadata": {},
     "output_type": "execute_result"
    }
   ],
   "source": [
    "numpy.sort(list)"
   ]
  },
  {
   "cell_type": "code",
   "execution_count": 12,
   "metadata": {},
   "outputs": [],
   "source": [
    "sort_order=['1','2','3','4','5','6','7','8','9']"
   ]
  },
  {
   "cell_type": "code",
   "execution_count": 16,
   "metadata": {},
   "outputs": [
    {
     "ename": "ValueError",
     "evalue": "Cannot specify order when the array has no fields.",
     "output_type": "error",
     "traceback": [
      "\u001b[0;31m---------------------------------------------------------------------------\u001b[0m",
      "\u001b[0;31mValueError\u001b[0m                                Traceback (most recent call last)",
      "\u001b[0;32m<ipython-input-16-9779f1263e70>\u001b[0m in \u001b[0;36m<module>\u001b[0;34m\u001b[0m\n\u001b[0;32m----> 1\u001b[0;31m \u001b[0mnumpy\u001b[0m\u001b[0;34m.\u001b[0m\u001b[0msort\u001b[0m\u001b[0;34m(\u001b[0m\u001b[0mlist\u001b[0m\u001b[0;34m,\u001b[0m\u001b[0morder\u001b[0m\u001b[0;34m=\u001b[0m\u001b[0msort_order\u001b[0m\u001b[0;34m)\u001b[0m\u001b[0;34m\u001b[0m\u001b[0;34m\u001b[0m\u001b[0m\n\u001b[0m",
      "\u001b[0;32m/opt/local/Library/Frameworks/Python.framework/Versions/3.7/lib/python3.7/site-packages/numpy/core/fromnumeric.py\u001b[0m in \u001b[0;36msort\u001b[0;34m(a, axis, kind, order)\u001b[0m\n\u001b[1;32m    932\u001b[0m     \u001b[0;32melse\u001b[0m\u001b[0;34m:\u001b[0m\u001b[0;34m\u001b[0m\u001b[0;34m\u001b[0m\u001b[0m\n\u001b[1;32m    933\u001b[0m         \u001b[0ma\u001b[0m \u001b[0;34m=\u001b[0m \u001b[0masanyarray\u001b[0m\u001b[0;34m(\u001b[0m\u001b[0ma\u001b[0m\u001b[0;34m)\u001b[0m\u001b[0;34m.\u001b[0m\u001b[0mcopy\u001b[0m\u001b[0;34m(\u001b[0m\u001b[0morder\u001b[0m\u001b[0;34m=\u001b[0m\u001b[0;34m\"K\"\u001b[0m\u001b[0;34m)\u001b[0m\u001b[0;34m\u001b[0m\u001b[0;34m\u001b[0m\u001b[0m\n\u001b[0;32m--> 934\u001b[0;31m     \u001b[0ma\u001b[0m\u001b[0;34m.\u001b[0m\u001b[0msort\u001b[0m\u001b[0;34m(\u001b[0m\u001b[0maxis\u001b[0m\u001b[0;34m=\u001b[0m\u001b[0maxis\u001b[0m\u001b[0;34m,\u001b[0m \u001b[0mkind\u001b[0m\u001b[0;34m=\u001b[0m\u001b[0mkind\u001b[0m\u001b[0;34m,\u001b[0m \u001b[0morder\u001b[0m\u001b[0;34m=\u001b[0m\u001b[0morder\u001b[0m\u001b[0;34m)\u001b[0m\u001b[0;34m\u001b[0m\u001b[0;34m\u001b[0m\u001b[0m\n\u001b[0m\u001b[1;32m    935\u001b[0m     \u001b[0;32mreturn\u001b[0m \u001b[0ma\u001b[0m\u001b[0;34m\u001b[0m\u001b[0;34m\u001b[0m\u001b[0m\n\u001b[1;32m    936\u001b[0m \u001b[0;34m\u001b[0m\u001b[0m\n",
      "\u001b[0;31mValueError\u001b[0m: Cannot specify order when the array has no fields."
     ]
    }
   ],
   "source": [
    "numpy.sort(list,order=sort_order)"
   ]
  },
  {
   "cell_type": "code",
   "execution_count": null,
   "metadata": {},
   "outputs": [],
   "source": []
  }
 ],
 "metadata": {
  "kernelspec": {
   "display_name": "Python 3",
   "language": "python",
   "name": "python3"
  },
  "language_info": {
   "codemirror_mode": {
    "name": "ipython",
    "version": 3
   },
   "file_extension": ".py",
   "mimetype": "text/x-python",
   "name": "python",
   "nbconvert_exporter": "python",
   "pygments_lexer": "ipython3",
   "version": "3.7.3"
  }
 },
 "nbformat": 4,
 "nbformat_minor": 2
}
