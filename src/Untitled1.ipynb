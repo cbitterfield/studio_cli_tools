{
 "cells": [
  {
   "cell_type": "code",
   "execution_count": 1,
   "metadata": {},
   "outputs": [],
   "source": [
    "def convert_kwargs_to_cmd_line_args(kwargs):\n",
    "    \"\"\"Helper function to build command line arguments out of dict.\"\"\"\n",
    "    args = []\n",
    "    for k in sorted(kwargs.keys()):\n",
    "        v = kwargs[k]\n",
    "        args.append('-{}'.format(k))\n",
    "        if v is not None:\n",
    "            args.append('{}'.format(v))\n",
    "    return args\n",
    "\n",
    "class Error(Exception):\n",
    "    def __init__(self, cmd, stdout, stderr):\n",
    "        super(Error, self).__init__(\n",
    "            '{} error (see stderr output for detail)'.format(cmd)\n",
    "        )\n",
    "        self.stdout = stdout\n",
    "        self.stderr = stderr"
   ]
  },
  {
   "cell_type": "code",
   "execution_count": 2,
   "metadata": {},
   "outputs": [],
   "source": [
    "import json\n",
    "import subprocess\n"
   ]
  },
  {
   "cell_type": "code",
   "execution_count": 3,
   "metadata": {},
   "outputs": [
    {
     "data": {
      "text/plain": [
       "['-sexagesimal']"
      ]
     },
     "execution_count": 3,
     "metadata": {},
     "output_type": "execute_result"
    }
   ],
   "source": [
    "extra = {'sexagesimal':None}\n",
    "cmd = 'ffprobe'\n",
    "filename = \"/Users/colin/Downloads/GMPX197.mp4\"\n",
    "convert_kwargs_to_cmd_line_args(extra)"
   ]
  },
  {
   "cell_type": "code",
   "execution_count": 4,
   "metadata": {},
   "outputs": [],
   "source": [
    "args = [cmd, '-show_format', '-show_streams', '-of', 'json']\n",
    "args += convert_kwargs_to_cmd_line_args(extra)\n",
    "args += [filename]"
   ]
  },
  {
   "cell_type": "code",
   "execution_count": 5,
   "metadata": {},
   "outputs": [
    {
     "name": "stdout",
     "output_type": "stream",
     "text": [
      "['ffprobe', '-show_format', '-show_streams', '-of', 'json', '-sexagesimal', '/Users/colin/Downloads/GMPX197.mp4']\n"
     ]
    }
   ],
   "source": [
    "print (args)"
   ]
  },
  {
   "cell_type": "code",
   "execution_count": 6,
   "metadata": {},
   "outputs": [],
   "source": [
    "p = subprocess.Popen(args, stdout=subprocess.PIPE, stderr=subprocess.PIPE)\n",
    "out, err = p.communicate()\n",
    "if p.returncode != 0:\n",
    "        raise Error('ffprobe', out, err)"
   ]
  },
  {
   "cell_type": "code",
   "execution_count": 23,
   "metadata": {},
   "outputs": [
    {
     "name": "stdout",
     "output_type": "stream",
     "text": [
      "b'{\\n    \"streams\": [\\n        {\\n            \"index\": 0,\\n            \"codec_name\": \"h264\",\\n            \"codec_long_name\": \"H.264 / AVC / MPEG-4 AVC / MPEG-4 part 10\",\\n            \"profile\": \"Constrained Baseline\",\\n            \"codec_type\": \"video\",\\n            \"codec_time_base\": \"1001/60000\",\\n            \"codec_tag_string\": \"avc1\",\\n            \"codec_tag\": \"0x31637661\",\\n            \"width\": 1280,\\n            \"height\": 720,\\n            \"coded_width\": 1280,\\n            \"coded_height\": 720,\\n            \"has_b_frames\": 0,\\n            \"sample_aspect_ratio\": \"1:1\",\\n            \"display_aspect_ratio\": \"16:9\",\\n            \"pix_fmt\": \"yuv420p\",\\n            \"level\": 30,\\n            \"chroma_location\": \"left\",\\n            \"refs\": 1,\\n            \"is_avc\": \"true\",\\n            \"nal_length_size\": \"4\",\\n            \"r_frame_rate\": \"30000/1001\",\\n            \"avg_frame_rate\": \"30000/1001\",\\n            \"time_base\": \"1/30000\",\\n            \"start_pts\": 0,\\n            \"start_time\": \"0:00:00.000000\",\\n            \"duration_ts\": 6505499,\\n            \"duration\": \"0:03:36.849967\",\\n            \"bit_rate\": \"6227329\",\\n            \"bits_per_raw_sample\": \"8\",\\n            \"nb_frames\": \"6499\",\\n            \"disposition\": {\\n                \"default\": 1,\\n                \"dub\": 0,\\n                \"original\": 0,\\n                \"comment\": 0,\\n                \"lyrics\": 0,\\n                \"karaoke\": 0,\\n                \"forced\": 0,\\n                \"hearing_impaired\": 0,\\n                \"visual_impaired\": 0,\\n                \"clean_effects\": 0,\\n                \"attached_pic\": 0,\\n                \"timed_thumbnails\": 0\\n            },\\n            \"tags\": {\\n                \"creation_time\": \"2019-06-04T20:05:57.000000Z\",\\n                \"language\": \"eng\",\\n                \"handler_name\": \"\\\\fVideoHandler\",\\n                \"encoder\": \"h264\"\\n            }\\n        },\\n        {\\n            \"index\": 1,\\n            \"codec_name\": \"aac\",\\n            \"codec_long_name\": \"AAC (Advanced Audio Coding)\",\\n            \"profile\": \"LC\",\\n            \"codec_type\": \"audio\",\\n            \"codec_time_base\": \"1/44100\",\\n            \"codec_tag_string\": \"mp4a\",\\n            \"codec_tag\": \"0x6134706d\",\\n            \"sample_fmt\": \"fltp\",\\n            \"sample_rate\": \"44100\",\\n            \"channels\": 2,\\n            \"channel_layout\": \"stereo\",\\n            \"bits_per_sample\": 0,\\n            \"r_frame_rate\": \"0/0\",\\n            \"avg_frame_rate\": \"0/0\",\\n            \"time_base\": \"1/44100\",\\n            \"start_pts\": 0,\\n            \"start_time\": \"0:00:00.000000\",\\n            \"duration_ts\": 9568256,\\n            \"duration\": \"0:03:36.967256\",\\n            \"bit_rate\": \"191941\",\\n            \"max_bit_rate\": \"191941\",\\n            \"nb_frames\": \"9344\",\\n            \"disposition\": {\\n                \"default\": 1,\\n                \"dub\": 0,\\n                \"original\": 0,\\n                \"comment\": 0,\\n                \"lyrics\": 0,\\n                \"karaoke\": 0,\\n                \"forced\": 0,\\n                \"hearing_impaired\": 0,\\n                \"visual_impaired\": 0,\\n                \"clean_effects\": 0,\\n                \"attached_pic\": 0,\\n                \"timed_thumbnails\": 0\\n            },\\n            \"tags\": {\\n                \"creation_time\": \"2019-06-04T20:05:57.000000Z\",\\n                \"language\": \"eng\",\\n                \"handler_name\": \"\\\\fSoundHandler\"\\n            }\\n        }\\n    ],\\n    \"format\": {\\n        \"filename\": \"/Users/colin/Downloads/GMPX197.mp4\",\\n        \"nb_streams\": 2,\\n        \"nb_programs\": 0,\\n        \"format_name\": \"mov,mp4,m4a,3gp,3g2,mj2\",\\n        \"format_long_name\": \"QuickTime / MOV\",\\n        \"start_time\": \"0:00:00.000000\",\\n        \"duration\": \"0:03:36.967256\",\\n        \"size\": \"174146702\",\\n        \"bit_rate\": \"6421123\",\\n        \"probe_score\": 100,\\n        \"tags\": {\\n            \"major_brand\": \"mp42\",\\n            \"minor_version\": \"512\",\\n            \"compatible_brands\": \"mp42\",\\n            \"creation_time\": \"2019-06-04T20:05:57.000000Z\",\\n            \"media_type\": \"9\",\\n            \"season_number\": \"1\",\\n            \"episode_sort\": \"1\",\\n            \"hd_video\": \"0\",\\n            \"iTunMOVI\": \"<?xml version=\\\\\"1.0\\\\\" encoding=\\\\\"UTF-8\\\\\"?><!DOCTYPE plist PUBLIC \\\\\"-//Apple Computer//DTD PLIST 1.0//EN\\\\\"  \\\\\"http://www.apple.com/DTDs/PropertyList-1.0.dtd\\\\\"><plist version=\\\\\"1.0\\\\\"><dict><key>studio</key><string>studio</string><key>cast</key><array><dict><key>name</key><string></string></dict></array><key>directors</key><array><dict><key>name</key><string></string></dict></array><key>producers</key><array><dict><key>name</key><string></string></dict></array><key>codirectors</key><array><dict><key>name</key><string>codirector</string></dict></array><key>screenwriters</key><array><dict><key>name</key><string></string></dict></array></dict></plist>\"\\n        }\\n    }\\n}\\n'\n"
     ]
    }
   ],
   "source": [
    "print(out)"
   ]
  },
  {
   "cell_type": "code",
   "execution_count": 7,
   "metadata": {},
   "outputs": [
    {
     "data": {
      "text/plain": [
       "'00:03:36'"
      ]
     },
     "execution_count": 7,
     "metadata": {},
     "output_type": "execute_result"
    }
   ],
   "source": [
    "def humanize_time(secs):\n",
    "    mins, secs = divmod(secs, 60)\n",
    "    hours, mins = divmod(mins, 60)\n",
    "    return '%02d:%02d:%02d' % (hours, mins, secs)\n",
    "\n",
    "humanize_time(216.849967)"
   ]
  },
  {
   "cell_type": "code",
   "execution_count": null,
   "metadata": {},
   "outputs": [],
   "source": []
  }
 ],
 "metadata": {
  "kernelspec": {
   "display_name": "Python 3",
   "language": "python",
   "name": "python3"
  },
  "language_info": {
   "codemirror_mode": {
    "name": "ipython",
    "version": 3
   },
   "file_extension": ".py",
   "mimetype": "text/x-python",
   "name": "python",
   "nbconvert_exporter": "python",
   "pygments_lexer": "ipython3",
   "version": "3.7.3"
  }
 },
 "nbformat": 4,
 "nbformat_minor": 2
}
