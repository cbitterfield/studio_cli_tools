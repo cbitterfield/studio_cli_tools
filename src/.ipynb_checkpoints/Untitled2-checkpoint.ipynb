{
 "cells": [
  {
   "cell_type": "code",
   "execution_count": 1,
   "metadata": {},
   "outputs": [],
   "source": [
    "in_use = {}"
   ]
  },
  {
   "cell_type": "code",
   "execution_count": 2,
   "metadata": {},
   "outputs": [],
   "source": [
    "in_use = {'colin': 1}"
   ]
  },
  {
   "cell_type": "code",
   "execution_count": 3,
   "metadata": {},
   "outputs": [
    {
     "name": "stdout",
     "output_type": "stream",
     "text": [
      "{'colin': 1}\n"
     ]
    }
   ],
   "source": [
    "print (in_use)"
   ]
  },
  {
   "cell_type": "code",
   "execution_count": 6,
   "metadata": {},
   "outputs": [],
   "source": [
    "if 'navy' in in_use:\n",
    "    in_use['navy'] = in_use['navy'] + 1\n",
    "else:\n",
    "    in_use['navy'] = 1"
   ]
  },
  {
   "cell_type": "code",
   "execution_count": 7,
   "metadata": {},
   "outputs": [
    {
     "name": "stdout",
     "output_type": "stream",
     "text": [
      "{'colin': 1, 'navy': 1}\n"
     ]
    }
   ],
   "source": [
    "print (in_use)"
   ]
  },
  {
   "cell_type": "code",
   "execution_count": 15,
   "metadata": {},
   "outputs": [],
   "source": [
    "filename='/edge/EdgeSource01/C1D767-C1D784/C1D768 GMHD Global Media Group 1 1770 GB/Allison/Movie/Untitled5.mov'"
   ]
  },
  {
   "cell_type": "code",
   "execution_count": 16,
   "metadata": {},
   "outputs": [],
   "source": [
    "import os\n"
   ]
  },
  {
   "cell_type": "code",
   "execution_count": 17,
   "metadata": {},
   "outputs": [],
   "source": [
    "junk,extenstion = os.path.splitext(filename)"
   ]
  },
  {
   "cell_type": "code",
   "execution_count": 20,
   "metadata": {},
   "outputs": [
    {
     "name": "stdout",
     "output_type": "stream",
     "text": [
      ".mov\n",
      "/edge/EdgeSource01/C1D767-C1D784/C1D768 GMHD Global Media Group 1 1770 GB/Allison/Movie\n",
      "Untitled5.mov\n"
     ]
    }
   ],
   "source": [
    "print(extenstion)\n",
    "print(os.path.dirname(filename))\n",
    "print(os.path.basename(filename))"
   ]
  },
  {
   "cell_type": "code",
   "execution_count": 22,
   "metadata": {},
   "outputs": [
    {
     "name": "stdout",
     "output_type": "stream",
     "text": [
      "EdgeSource01/C1D767-C1D784/C1D768 GMHD Global Media Group 1 1770 GB/Allison/Movie\n"
     ]
    }
   ],
   "source": [
    "filename = filename.replace('/edge/','')\n",
    "print(os.path.dirname(filename))\n"
   ]
  },
  {
   "cell_type": "code",
   "execution_count": 25,
   "metadata": {},
   "outputs": [],
   "source": [
    "LIST=[]\n",
    "LIST=filename.split('/')"
   ]
  },
  {
   "cell_type": "code",
   "execution_count": 26,
   "metadata": {},
   "outputs": [
    {
     "name": "stdout",
     "output_type": "stream",
     "text": [
      "['EdgeSource01', 'C1D767-C1D784', 'C1D768 GMHD Global Media Group 1 1770 GB', 'Allison', 'Movie', 'Untitled5.mov']\n"
     ]
    }
   ],
   "source": [
    "print(LIST)"
   ]
  },
  {
   "cell_type": "code",
   "execution_count": 28,
   "metadata": {},
   "outputs": [
    {
     "data": {
      "text/plain": [
       "1"
      ]
     },
     "execution_count": 28,
     "metadata": {},
     "output_type": "execute_result"
    }
   ],
   "source": [
    "LIST.index('C1D767-C1D784')"
   ]
  },
  {
   "cell_type": "code",
   "execution_count": 29,
   "metadata": {},
   "outputs": [
    {
     "ename": "NameError",
     "evalue": "name 'nfs_prefix' is not defined",
     "output_type": "error",
     "traceback": [
      "\u001b[0;31m---------------------------------------------------------------------------\u001b[0m",
      "\u001b[0;31mNameError\u001b[0m                                 Traceback (most recent call last)",
      "\u001b[0;32m<ipython-input-29-9722efcd5079>\u001b[0m in \u001b[0;36m<module>\u001b[0;34m\u001b[0m\n\u001b[1;32m      2\u001b[0m \u001b[0mprobe_name\u001b[0m \u001b[0;34m=\u001b[0m \u001b[0;34m'/Users/colin/Downloads/boxcover.mp4'\u001b[0m\u001b[0;34m\u001b[0m\u001b[0;34m\u001b[0m\u001b[0m\n\u001b[1;32m      3\u001b[0m \u001b[0;32mtry\u001b[0m\u001b[0;34m:\u001b[0m\u001b[0;34m\u001b[0m\u001b[0;34m\u001b[0m\u001b[0m\n\u001b[0;32m----> 4\u001b[0;31m         \u001b[0mprobe\u001b[0m \u001b[0;34m=\u001b[0m \u001b[0mffmpeg\u001b[0m\u001b[0;34m.\u001b[0m\u001b[0mprobe\u001b[0m\u001b[0;34m(\u001b[0m\u001b[0mnfs_prefix\u001b[0m \u001b[0;34m+\u001b[0m \u001b[0mfilename\u001b[0m\u001b[0;34m)\u001b[0m\u001b[0;34m\u001b[0m\u001b[0;34m\u001b[0m\u001b[0m\n\u001b[0m\u001b[1;32m      5\u001b[0m         \u001b[0mvideo_stream\u001b[0m \u001b[0;34m=\u001b[0m \u001b[0mnext\u001b[0m\u001b[0;34m(\u001b[0m\u001b[0;34m(\u001b[0m\u001b[0mstream\u001b[0m \u001b[0;32mfor\u001b[0m \u001b[0mstream\u001b[0m \u001b[0;32min\u001b[0m \u001b[0mprobe\u001b[0m\u001b[0;34m[\u001b[0m\u001b[0;34m'streams'\u001b[0m\u001b[0;34m]\u001b[0m \u001b[0;32mif\u001b[0m \u001b[0mstream\u001b[0m\u001b[0;34m[\u001b[0m\u001b[0;34m'codec_type'\u001b[0m\u001b[0;34m]\u001b[0m \u001b[0;34m==\u001b[0m \u001b[0;34m'video'\u001b[0m\u001b[0;34m)\u001b[0m\u001b[0;34m,\u001b[0m \u001b[0;32mNone\u001b[0m\u001b[0;34m)\u001b[0m\u001b[0;34m\u001b[0m\u001b[0;34m\u001b[0m\u001b[0m\n\u001b[1;32m      6\u001b[0m         \u001b[0maudio_stream\u001b[0m \u001b[0;34m=\u001b[0m  \u001b[0mnext\u001b[0m\u001b[0;34m(\u001b[0m\u001b[0;34m(\u001b[0m\u001b[0mstream\u001b[0m \u001b[0;32mfor\u001b[0m \u001b[0mstream\u001b[0m \u001b[0;32min\u001b[0m \u001b[0mprobe\u001b[0m\u001b[0;34m[\u001b[0m\u001b[0;34m'streams'\u001b[0m\u001b[0;34m]\u001b[0m \u001b[0;32mif\u001b[0m \u001b[0mstream\u001b[0m\u001b[0;34m[\u001b[0m\u001b[0;34m'codec_type'\u001b[0m\u001b[0;34m]\u001b[0m \u001b[0;34m==\u001b[0m \u001b[0;34m'audio'\u001b[0m\u001b[0;34m)\u001b[0m\u001b[0;34m,\u001b[0m \u001b[0;32mNone\u001b[0m\u001b[0;34m)\u001b[0m\u001b[0;34m\u001b[0m\u001b[0;34m\u001b[0m\u001b[0m\n",
      "\u001b[0;31mNameError\u001b[0m: name 'nfs_prefix' is not defined"
     ]
    }
   ],
   "source": [
    "import ffmpeg\n",
    "probe_name = '/Users/colin/Downloads/boxcover.mp4'\n",
    "try:\n",
    "        probe = ffmpeg.probe(probe_name)\n",
    "        video_stream = next((stream for stream in probe['streams'] if stream['codec_type'] == 'video'), None)\n",
    "        audio_stream =  next((stream for stream in probe['streams'] if stream['codec_type'] == 'audio'), None)\n",
    "except ffmpeg.Error as e:\n",
    "                print('Error {0} '.format(probe_name))\n",
    "               "
   ]
  },
  {
   "cell_type": "code",
   "execution_count": null,
   "metadata": {},
   "outputs": [],
   "source": []
  }
 ],
 "metadata": {
  "kernelspec": {
   "display_name": "Python 3",
   "language": "python",
   "name": "python3"
  },
  "language_info": {
   "codemirror_mode": {
    "name": "ipython",
    "version": 3
   },
   "file_extension": ".py",
   "mimetype": "text/x-python",
   "name": "python",
   "nbconvert_exporter": "python",
   "pygments_lexer": "ipython3",
   "version": "3.7.3"
  }
 },
 "nbformat": 4,
 "nbformat_minor": 2
}
